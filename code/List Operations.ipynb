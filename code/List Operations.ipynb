{
 "cells": [
  {
   "cell_type": "markdown",
   "metadata": {},
   "source": [
    "Problem : https://www.hackerrank.com/challenges/python-lists/problem\n",
    "\n",
    "Consider a list (list = []). You can perform the following commands:\n",
    "\n",
    "insert i e: Insert integer  at position .\n",
    "print: Print the list.\n",
    "remove e: Delete the first occurrence of integer .\n",
    "append e: Insert integer  at the end of the list.\n",
    "sort: Sort the list.\n",
    "pop: Pop the last element from the list.\n",
    "reverse: Reverse the list.\n",
    "Initialize your list and read in the value of  followed by  lines of commands where each command will be of the  types listed above. Iterate through each command in order and perform the corresponding operation on your list.\n",
    "\n",
    "Input Format\n",
    "\n",
    "The first line contains an integer, , denoting the number of commands.\n",
    "Each line  of the  subsequent lines contains one of the commands described above.\n",
    "\n",
    "Constraints\n",
    "\n",
    "The elements added to the list must be integers.\n",
    "Output Format\n",
    "\n",
    "For each command of type print, print the list on a new line.\n",
    "\n",
    "Sample Input 0\n",
    "\n",
    "12\n",
    "insert 0 5\n",
    "insert 1 10\n",
    "insert 0 6\n",
    "print\n",
    "remove 6\n",
    "append 9\n",
    "append 1\n",
    "sort\n",
    "print\n",
    "pop\n",
    "reverse\n",
    "print\n",
    "Sample Output 0\n",
    "\n",
    "[6, 5, 10]\n",
    "[1, 5, 9, 10]\n",
    "[9, 5, 1]"
   ]
  },
  {
   "cell_type": "code",
   "execution_count": 11,
   "metadata": {
    "ExecuteTime": {
     "end_time": "2021-01-27T04:51:32.170214Z",
     "start_time": "2021-01-27T04:51:05.336391Z"
    }
   },
   "outputs": [
    {
     "name": "stdout",
     "output_type": "stream",
     "text": [
      "5\n",
      "insert 0 5\n",
      "insert 0 19\n",
      "reverse\n",
      "pop\n",
      "print\n",
      "[5]\n"
     ]
    }
   ],
   "source": [
    "if __name__ == '__main__':\n",
    "    N = int(input())\n",
    "    inp_ls = []\n",
    "    \n",
    "    for i in range(N):\n",
    "        inp = input().split()\n",
    "        inp_ls.append(inp)\n",
    "    # print(inp_ls)\n",
    "    \n",
    "    cmd_ls = [x[0] for x in inp_ls]\n",
    "    # print(cmd_ls)    \n",
    "    \n",
    "    ls =[]\n",
    "    for i in range(len(cmd_ls)):\n",
    "        if cmd_ls[i] == 'insert':\n",
    "            # print('index',inp_ls[i][1])\n",
    "            # print('value',inp_ls[i][2])\n",
    "            ls.insert(int(inp_ls[i][1]),int(inp_ls[i][2]))\n",
    "        elif cmd_ls[i] == 'print':\n",
    "            print(ls)\n",
    "        elif cmd_ls[i] == 'remove':\n",
    "            ls.remove(int(inp_ls[i][1]))\n",
    "        elif cmd_ls[i] == 'append':\n",
    "            ls.append(int(inp_ls[i][1]))\n",
    "        elif cmd_ls[i] == 'sort':\n",
    "            ls.sort()\n",
    "        elif cmd_ls[i] == 'pop':\n",
    "            ls.pop()\n",
    "        elif cmd_ls[i] == 'reverse':\n",
    "            ls.reverse()\n"
   ]
  },
  {
   "cell_type": "code",
   "execution_count": null,
   "metadata": {},
   "outputs": [],
   "source": []
  }
 ],
 "metadata": {
  "kernelspec": {
   "display_name": "Python 3",
   "language": "python",
   "name": "python3"
  },
  "language_info": {
   "codemirror_mode": {
    "name": "ipython",
    "version": 3
   },
   "file_extension": ".py",
   "mimetype": "text/x-python",
   "name": "python",
   "nbconvert_exporter": "python",
   "pygments_lexer": "ipython3",
   "version": "3.7.9"
  }
 },
 "nbformat": 4,
 "nbformat_minor": 4
}
