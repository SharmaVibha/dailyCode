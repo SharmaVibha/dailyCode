{
 "cells": [
  {
   "cell_type": "code",
   "execution_count": null,
   "metadata": {},
   "outputs": [],
   "source": [
    "# Daily Coding Problem: Problem #1 [Easy] -Sat, Jan 16, 10:03 PM \n",
    "\n",
    "# This problem was recently asked by Google.\n",
    "\n",
    "# Given a list of numbers and a number k, return whether any two numbers from the list add up to k.\n",
    "\n",
    "# For example, given [10, 15, 3, 7] and k of 17, return true since 10 + 7 is 17."
   ]
  },
  {
   "cell_type": "code",
   "execution_count": 45,
   "metadata": {
    "ExecuteTime": {
     "end_time": "2021-01-18T04:44:50.260872Z",
     "start_time": "2021-01-18T04:44:50.251498Z"
    }
   },
   "outputs": [],
   "source": [
    "def fn_test(ls,k):\n",
    "    for i in range(len(ls)):\n",
    "        if k in [ls[i] + x for x in ls[i+1:]]:\n",
    "            return True\n",
    "        elif i == len(ls)-1 :\n",
    "            return False"
   ]
  },
  {
   "cell_type": "code",
   "execution_count": 48,
   "metadata": {
    "ExecuteTime": {
     "end_time": "2021-01-18T04:44:56.460976Z",
     "start_time": "2021-01-18T04:44:56.450120Z"
    }
   },
   "outputs": [],
   "source": [
    "ls = [10,15,3,7]\n",
    "k = 17"
   ]
  },
  {
   "cell_type": "code",
   "execution_count": 49,
   "metadata": {
    "ExecuteTime": {
     "end_time": "2021-01-18T04:44:56.887223Z",
     "start_time": "2021-01-18T04:44:56.874885Z"
    }
   },
   "outputs": [
    {
     "data": {
      "text/plain": [
       "True"
      ]
     },
     "execution_count": 49,
     "metadata": {},
     "output_type": "execute_result"
    }
   ],
   "source": [
    "fn_test(ls,k)"
   ]
  },
  {
   "cell_type": "code",
   "execution_count": null,
   "metadata": {},
   "outputs": [],
   "source": []
  }
 ],
 "metadata": {
  "kernelspec": {
   "display_name": "Python 3",
   "language": "python",
   "name": "python3"
  },
  "language_info": {
   "codemirror_mode": {
    "name": "ipython",
    "version": 3
   },
   "file_extension": ".py",
   "mimetype": "text/x-python",
   "name": "python",
   "nbconvert_exporter": "python",
   "pygments_lexer": "ipython3",
   "version": "3.7.9"
  }
 },
 "nbformat": 4,
 "nbformat_minor": 4
}
